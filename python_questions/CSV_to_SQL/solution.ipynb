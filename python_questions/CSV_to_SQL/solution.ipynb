{
 "cells": [
  {
   "cell_type": "markdown",
   "id": "3cbdc265-f28c-448c-9220-785830c8ac75",
   "metadata": {},
   "source": [
    "# Solution"
   ]
  },
  {
   "cell_type": "code",
   "execution_count": 1,
   "id": "dcef8339-3000-4d21-bd30-bd6b15e8606a",
   "metadata": {},
   "outputs": [
    {
     "data": {
      "text/html": [
       "<div>\n",
       "<style scoped>\n",
       "    .dataframe tbody tr th:only-of-type {\n",
       "        vertical-align: middle;\n",
       "    }\n",
       "\n",
       "    .dataframe tbody tr th {\n",
       "        vertical-align: top;\n",
       "    }\n",
       "\n",
       "    .dataframe thead th {\n",
       "        text-align: right;\n",
       "    }\n",
       "</style>\n",
       "<table border=\"1\" class=\"dataframe\">\n",
       "  <thead>\n",
       "    <tr style=\"text-align: right;\">\n",
       "      <th></th>\n",
       "      <th>Date</th>\n",
       "      <th>Name</th>\n",
       "      <th>Value</th>\n",
       "    </tr>\n",
       "  </thead>\n",
       "  <tbody>\n",
       "    <tr>\n",
       "      <th>0</th>\n",
       "      <td>2022-11-24 22:34:55</td>\n",
       "      <td>WZMHH</td>\n",
       "      <td>NaN</td>\n",
       "    </tr>\n",
       "    <tr>\n",
       "      <th>1</th>\n",
       "      <td>2022-05-30 14:44:47</td>\n",
       "      <td>DIXFU</td>\n",
       "      <td>NaN</td>\n",
       "    </tr>\n",
       "    <tr>\n",
       "      <th>2</th>\n",
       "      <td>2022-10-22 08:38:49</td>\n",
       "      <td>OHCUI</td>\n",
       "      <td>0.637045</td>\n",
       "    </tr>\n",
       "    <tr>\n",
       "      <th>3</th>\n",
       "      <td>2022-12-12 17:40:29</td>\n",
       "      <td>GEVAZ</td>\n",
       "      <td>0.529207</td>\n",
       "    </tr>\n",
       "    <tr>\n",
       "      <th>4</th>\n",
       "      <td>2022-06-13 08:00:40</td>\n",
       "      <td>GBRDD</td>\n",
       "      <td>0.376432</td>\n",
       "    </tr>\n",
       "  </tbody>\n",
       "</table>\n",
       "</div>"
      ],
      "text/plain": [
       "                  Date   Name     Value\n",
       "0  2022-11-24 22:34:55  WZMHH       NaN\n",
       "1  2022-05-30 14:44:47  DIXFU       NaN\n",
       "2  2022-10-22 08:38:49  OHCUI  0.637045\n",
       "3  2022-12-12 17:40:29  GEVAZ  0.529207\n",
       "4  2022-06-13 08:00:40  GBRDD  0.376432"
      ]
     },
     "execution_count": 1,
     "metadata": {},
     "output_type": "execute_result"
    }
   ],
   "source": [
    "import pandas as pd\n",
    "df = pd.read_csv('data.csv')\n",
    "df.head()"
   ]
  },
  {
   "cell_type": "markdown",
   "id": "05be0137-13c7-4742-a07f-02aa727d291a",
   "metadata": {},
   "source": [
    "## Pandas `.to_sql()`\n",
    "\n",
    "At first the [`.to_sql()`](https://pandas.pydata.org/docs/reference/api/pandas.DataFrame.to_sql.html) function seems promising"
   ]
  },
  {
   "cell_type": "code",
   "execution_count": 2,
   "id": "3a05eba0-21e6-4de7-8904-fd6fb100157b",
   "metadata": {},
   "outputs": [],
   "source": [
    "from sqlalchemy import create_engine, text\n",
    "engine = create_engine('sqlite://', echo=False)"
   ]
  },
  {
   "cell_type": "code",
   "execution_count": 3,
   "id": "29e45f55-5afa-4613-99c4-536c5b5d0ced",
   "metadata": {},
   "outputs": [
    {
     "data": {
      "text/plain": [
       "100"
      ]
     },
     "execution_count": 3,
     "metadata": {},
     "output_type": "execute_result"
    }
   ],
   "source": [
    "df.to_sql('test', engine, index=False)"
   ]
  },
  {
   "cell_type": "code",
   "execution_count": 4,
   "id": "7a381fc5-3a7f-473a-a6e2-527b8fda4070",
   "metadata": {},
   "outputs": [
    {
     "data": {
      "text/plain": [
       "[('2022-11-24 22:34:55', 'WZMHH', None),\n",
       " ('2022-05-30 14:44:47', 'DIXFU', None),\n",
       " ('2022-10-22 08:38:49', 'OHCUI', 0.6370445113549524),\n",
       " ('2022-12-12 17:40:29', 'GEVAZ', 0.5292072971005523),\n",
       " ('2022-06-13 08:00:40', 'GBRDD', 0.376431751315491)]"
      ]
     },
     "execution_count": 4,
     "metadata": {},
     "output_type": "execute_result"
    }
   ],
   "source": [
    "with engine.connect() as conn:\n",
    "    result = conn.execute(text(\"SELECT * FROM test;\"))\n",
    "result.fetchall()[:5]"
   ]
  },
  {
   "cell_type": "markdown",
   "id": "15bd3f16-aeaa-4ef1-b2b4-57fc97c43695",
   "metadata": {},
   "source": [
    "Almost, but not quite. How to intercept the transaction before it is executed and inserted into the DB?"
   ]
  },
  {
   "cell_type": "markdown",
   "id": "f3dee261-ad7f-449b-a583-3b90cfe9f308",
   "metadata": {},
   "source": [
    "## String Mapping"
   ]
  },
  {
   "cell_type": "markdown",
   "id": "4fae57fc-a1d7-4555-a81f-cb0ee6552306",
   "metadata": {},
   "source": [
    "Instead, I created a function function to maps the `str` method to each row. "
   ]
  },
  {
   "cell_type": "code",
   "execution_count": 5,
   "id": "6cb63e17-93be-4f6b-9b85-ea28cb52088c",
   "metadata": {},
   "outputs": [],
   "source": [
    "import re\n",
    "def df_to_sql_bulk_insert(input_df, table, date_columns=None):\n",
    "    \"\"\"https://stackoverflow.com/questions/31071952/generate-sql-statements-from-a-pandas-dataframe/70585493#70585493\"\"\"\n",
    "    df = input_df.copy()\n",
    "    if date_columns:\n",
    "        for name in date_columns:\n",
    "            df[name] = df[name].copy().apply(str)\n",
    "    columns = \", \".join(df.columns)\n",
    "    tuples = map(str, df.itertuples(index=False, name=None))\n",
    "    values = re.sub(r\"(?<=\\W)(nan|None)(?=\\W)\", \"NULL\", (\",\\n\" + \" \").join(tuples))\n",
    "    values = values.replace(\"'NULL'\", \"NULL\")\n",
    "    return f\"INSERT INTO {table} ({columns})\\nVALUES\\n {values};\\n\""
   ]
  },
  {
   "cell_type": "code",
   "execution_count": 6,
   "id": "90ad7f87-22a6-49e3-ad4e-4ca8aa2c8300",
   "metadata": {},
   "outputs": [],
   "source": [
    "t = df_to_sql_bulk_insert(df, 'SAMPLE_TABLE', date_columns=['Date'])"
   ]
  },
  {
   "cell_type": "code",
   "execution_count": 7,
   "id": "a6f2ddd7-4e69-48ea-9832-960642ca8a79",
   "metadata": {},
   "outputs": [
    {
     "name": "stdout",
     "output_type": "stream",
     "text": [
      "INSERT INTO SAMPLE_TABLE (Date, Name, Value)\n",
      "VALUES\n",
      " ('2022-11-24 22:34:55', 'WZMHH', NULL),\n",
      " ('2022-05-30 14:44:47', 'DIXFU', NULL),\n",
      " ('2022-10-22 08:38:49', 'OHCUI', 0.6370445113549524),\n",
      " ('2022-12-12 17:40:29', 'GEVAZ', 0.5292072971005523),\n",
      " ('2022-06-13 08:00:40', 'GBRDD', 0.376431751315491),\n",
      " ('2022-01-16 17:20:30', 'BCSVR', 0.0084276081414927),\n",
      " ('2022-04-11 13:16:44', 'VNNGF', 0.9619565585865116),\n",
      " ('2022-07-18 13:25:32', 'RVKHM', 0.901262330417864),\n",
      " ('2022-07-08 17:10:27', 'QSZJI', 0.4412973836361636),\n",
      " \n"
     ]
    }
   ],
   "source": [
    "print(t[:518])"
   ]
  },
  {
   "cell_type": "markdown",
   "id": "4dde4529-3129-4e72-b573-761911b65019",
   "metadata": {},
   "source": [
    "## Conclusion\n",
    "\n",
    "I have solved this problem using the function defined above, **BUT** I don't like it. I want to leverage pandas to get the same results. \n",
    "\n",
    "I have done some investigation into the [pandas/io/sql.py](https://github.com/pandas-dev/pandas/blob/main/pandas/io/sql.py) code but I haven't figured it out yet. I think [sqlalchemy](https://www.sqlalchemy.org/) would be helpful, but I am not so familiar with the library. \n",
    "\n",
    "Any advice or help is appreciated!\n",
    "\n",
    "Create a new notebook with your solution and submit a PR."
   ]
  }
 ],
 "metadata": {
  "kernelspec": {
   "display_name": "Python 3 (ipykernel)",
   "language": "python",
   "name": "python3"
  },
  "language_info": {
   "codemirror_mode": {
    "name": "ipython",
    "version": 3
   },
   "file_extension": ".py",
   "mimetype": "text/x-python",
   "name": "python",
   "nbconvert_exporter": "python",
   "pygments_lexer": "ipython3",
   "version": "3.11.5"
  }
 },
 "nbformat": 4,
 "nbformat_minor": 5
}
